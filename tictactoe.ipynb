{
 "cells": [
  {
   "cell_type": "code",
   "execution_count": 1,
   "metadata": {},
   "outputs": [],
   "source": [
    "import random\n",
    "\n",
    "#tic tac toe game \n",
    "\n",
    "#step 1: draw the board \n",
    "\n",
    "\n",
    "from IPython.display import clear_output\n",
    "\n",
    "def display_board(board):\n",
    "    clear_output()\n",
    "    \n",
    "    print('  |     |  ')\n",
    "    print(board[1] + ' | ' + ' ' + board[2] + ' ' + ' | ' + board[3])\n",
    "    print('  |     |  ')\n",
    "    print('------------')\n",
    "    print('  |     |  ')\n",
    "    print(board[4] + ' | ' + ' ' + board[5] + ' ' + ' | ' + board[6])\n",
    "    print('  |     |  ')\n",
    "    print('------------')\n",
    "    print('  |     |  ')\n",
    "    print(board[7] + ' | ' + ' ' + board[8] + ' ' + ' | ' + board[9])\n",
    "    print('  |     |  ')"
   ]
  },
  {
   "cell_type": "code",
   "execution_count": 2,
   "metadata": {},
   "outputs": [],
   "source": [
    "def player_input():\n",
    "    marker = ''\n",
    "    \n",
    "    while not (marker == 'X' or marker == 'O'):\n",
    "        marker = input('Hi player 1, what would you like to play as?(please choose either X or O)').upper()\n",
    "    \n",
    "    if marker=='X': \n",
    "        return ('X', 'O')\n",
    "    else:\n",
    "        return('O','X')"
   ]
  },
  {
   "cell_type": "code",
   "execution_count": 3,
   "metadata": {},
   "outputs": [],
   "source": [
    "def place_marker(board, marker, position):\n",
    "    board[position] = marker"
   ]
  },
  {
   "cell_type": "code",
   "execution_count": 4,
   "metadata": {},
   "outputs": [],
   "source": [
    "def win_check(board, mark):\n",
    "    return(\n",
    "    (board[1] == mark and board[2]== mark and board[3] == mark) or \n",
    "    (board[7] == mark and board[8] == mark and board[9] == mark) or \n",
    "    (board[4] == mark and board[5] == mark and board[6] == mark) or\n",
    "    (board[7] == mark and board[4] == mark and board[1] == mark) or \n",
    "    (board[8] == mark and board[5] == mark and board[2] == mark) or \n",
    "    (board[9] == mark and board[6] == mark and board[3] == mark) or \n",
    "    (board[7] == mark and board[5] == mark and board[3] == mark) or \n",
    "    (board[9] == mark and board[5] == mark and board[1] == mark) \n",
    "    )"
   ]
  },
  {
   "cell_type": "code",
   "execution_count": 5,
   "metadata": {},
   "outputs": [],
   "source": [
    "def choose_first(): \n",
    "    if random.randint(0,1)==1:\n",
    "        return 'Player 1'\n",
    "    else:\n",
    "        return 'Player 2'"
   ]
  },
  {
   "cell_type": "code",
   "execution_count": 6,
   "metadata": {},
   "outputs": [],
   "source": [
    "def space_check(board, position):\n",
    "    return board[position] == ' '"
   ]
  },
  {
   "cell_type": "code",
   "execution_count": 7,
   "metadata": {},
   "outputs": [],
   "source": [
    "def full_board_check(board): \n",
    "    for i in range(1,10):\n",
    "        if space_check(board, i):\n",
    "            return False\n",
    "    return True"
   ]
  },
  {
   "cell_type": "code",
   "execution_count": 8,
   "metadata": {},
   "outputs": [],
   "source": [
    "def player_choice(board):\n",
    "    choice = 0\n",
    "    \n",
    "    while choice not in [1,2,3,4,5,6,7,8,9] or not space_check(board, choice): \n",
    "        choice = int(input('please choose an empty square you would like to play in (select numbers between 1 and 9: '))\n",
    "        \n",
    "    return choice    "
   ]
  },
  {
   "cell_type": "code",
   "execution_count": 9,
   "metadata": {},
   "outputs": [],
   "source": [
    "def replay(): \n",
    "    return input('Would you like to play again? Yes or No: ').lower().startswith('y')\n",
    "    "
   ]
  },
  {
   "cell_type": "code",
   "execution_count": null,
   "metadata": {},
   "outputs": [
    {
     "name": "stdout",
     "output_type": "stream",
     "text": [
      "  |     |  \n",
      "O |  X  |  \n",
      "  |     |  \n",
      "------------\n",
      "  |     |  \n",
      "O |  X  |  \n",
      "  |     |  \n",
      "------------\n",
      "  |     |  \n",
      "  |     |  \n",
      "  |     |  \n",
      "\n",
      "(Your turn Lisa!)\n"
     ]
    }
   ],
   "source": [
    "print('welcome to TicTacToe, by Aimar\\n')\n",
    "\n",
    "player1_name = input(\"Hi Player 1, what's your name?: \")\n",
    "player2_name = input(\"Hi Player 2, what's your name?: \")\n",
    "\n",
    "theBoard = [str(i) for i in range(0,10)]\n",
    "display_board(theBoard)\n",
    "print('''\n",
    "Hi {} and {}, above is an example of the board. \n",
    "To put your marker (wether X or O), just insert the number of the cell you want!\n",
    "Good luck to you both!\n",
    "'''.format(player1_name, player2_name))\n",
    "\n",
    "while True: \n",
    "    ourboard = [' ']*10 \n",
    "    player1_marker, player2_marker = player_input()\n",
    "    \n",
    "    print('\\n' + player1_name + ', you will be using ' + player1_marker+'!')\n",
    "    print(player2_name + ', you will be using ' + player2_marker+'!')\n",
    "    \n",
    "    turn = choose_first()\n",
    "    \n",
    "    print('\\n' + turn + ' will go first')\n",
    "    \n",
    "    start_play = input('Shall we start? Yes or No: ')\n",
    "    \n",
    "    if start_play.lower()[0] == 'y': \n",
    "        game_on = True\n",
    "    else:\n",
    "        game_on = False\n",
    "    \n",
    "    while game_on:\n",
    "        if turn == 'Player 1':\n",
    "            display_board(ourboard)\n",
    "            print('\\n(Alright, {}!)'.format(player1_name))\n",
    "            position = player_choice(ourboard)\n",
    "            place_marker(ourboard, player1_marker, position)\n",
    "            \n",
    "            if win_check(ourboard, player1_marker):\n",
    "                display_board(ourboard)\n",
    "                print('My my, well done {}. You have won the game!'.format(player1_name))\n",
    "                game_on = False \n",
    "            else:\n",
    "                if full_board_check(ourboard):\n",
    "                    display_board(ourboard)\n",
    "                    print(\"Goodness {a} and {b}, aren't you both fairly well matched! Unfortunately, we have a draw on our hands\".format(a = player1_name, b = player2_name))\n",
    "                    break\n",
    "                \n",
    "                else:\n",
    "                    turn = 'Player 2'\n",
    "        else:\n",
    "            display_board(ourboard)\n",
    "            print('\\n(Your turn {}!)'.format(player2_name))\n",
    "            position = player_choice(ourboard)\n",
    "            place_marker(ourboard, player2_marker, position)\n",
    "            \n",
    "            if win_check(ourboard, player2_marker):\n",
    "                display_board(ourboard)\n",
    "                print('My my, well done {}. You have won the game!'.format(player2_name))\n",
    "                game_on = False \n",
    "            else:\n",
    "                if full_board_check(ourboard):\n",
    "                    display_board(ourboard)\n",
    "                    print(\"Goodness {a} and {b}, aren't you both fairly well matched! Unfortunately, we have a draw on our hands\".format(a = player1_name, b = player2_name))\n",
    "                    break\n",
    "                \n",
    "                else:\n",
    "                    turn = 'Player 1'\n",
    "        \n",
    "    if not replay():\n",
    "            break"
   ]
  },
  {
   "cell_type": "code",
   "execution_count": null,
   "metadata": {},
   "outputs": [],
   "source": []
  }
 ],
 "metadata": {
  "kernelspec": {
   "display_name": "Python 3",
   "language": "python",
   "name": "python3"
  },
  "language_info": {
   "codemirror_mode": {
    "name": "ipython",
    "version": 3
   },
   "file_extension": ".py",
   "mimetype": "text/x-python",
   "name": "python",
   "nbconvert_exporter": "python",
   "pygments_lexer": "ipython3",
   "version": "3.8.5"
  }
 },
 "nbformat": 4,
 "nbformat_minor": 4
}
